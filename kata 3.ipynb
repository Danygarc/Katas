{
 "cells": [
  {
   "cell_type": "markdown",
   "metadata": {},
   "source": [
    "IF, ELSE, ELIF"
   ]
  },
  {
   "cell_type": "code",
   "execution_count": null,
   "metadata": {},
   "outputs": [],
   "source": [
    "Ejemplos:\n",
    "if expresion_prueba:\n",
    "    # intrucción(es) a ejecutar\n",
    "    if expresion_prueba:\n",
    "        # intrucción(es) a ejecutar\n",
    "    else: \n",
    "        # intrucción(es) a ejecutar\n",
    "elif expresion_prueba:\n",
    "    # intrucción(es) a ejecutar\n",
    "else:\n",
    "    # intrucción(es) a ejecutar"
   ]
  },
  {
   "cell_type": "markdown",
   "metadata": {},
   "source": [
    "Advertencia si un asteroide se acerca a la Tierra demasiado rápido. La velocidad del asteroide varía dependiendo de lo cerca que esté del sol, y cualquier velocidad superior a 25 kilómetros por segundo (km/s) merece una advertencia"
   ]
  },
  {
   "cell_type": "code",
   "execution_count": 5,
   "metadata": {},
   "outputs": [
    {
     "name": "stdout",
     "output_type": "stream",
     "text": [
      "¡Alerta! ¡Un asteroide se acerca a velocidades peligrosas!, su velocidad es: 49 kilometros por segundo\n"
     ]
    }
   ],
   "source": [
    "asteroide = 49\n",
    "if asteroide > 25:\n",
    "    print('¡Alerta! ¡Un asteroide se acerca a velocidades peligrosas!, su velocidad es: ' + str(asteroide) + ' kilometros por segundo')\n",
    "else:\n",
    "    print('¡Sigue con tu día!')"
   ]
  },
  {
   "cell_type": "markdown",
   "metadata": {},
   "source": [
    "Si un asteroide entra en la atmósfera de la Tierra a una velocidad mayor o igual a 20 km/s, a veces produce un rayo de luz que se puede ver desde la Tierra. Escribe la lógica condicional que usa declaraciones if, else, y elif para alertar a las personas de todo el mundo que deben buscar un asteroide en el cielo. ¡Hay uno que se dirige a la tierra ahora a una velocidad de 19 km/s!"
   ]
  },
  {
   "cell_type": "code",
   "execution_count": 6,
   "metadata": {},
   "outputs": [
    {
     "ename": "SyntaxError",
     "evalue": "invalid syntax. Maybe you meant '==' or ':=' instead of '='? (2699640122.py, line 4)",
     "output_type": "error",
     "traceback": [
      "\u001b[1;36m  Input \u001b[1;32mIn [6]\u001b[1;36m\u001b[0m\n\u001b[1;33m    elif asteroide = 20:\u001b[0m\n\u001b[1;37m         ^\u001b[0m\n\u001b[1;31mSyntaxError\u001b[0m\u001b[1;31m:\u001b[0m invalid syntax. Maybe you meant '==' or ':=' instead of '='?\n"
     ]
    }
   ],
   "source": [
    "asteroide = 19\n",
    "if asteroide > 20:\n",
    "    print('¡Hay una luz en el cielo')\n",
    "elif asteroide = 20:\n",
    "    print('hay una luz en el cielo')\n",
    "else:\n",
    "    print('no buscar, no hay nada')\n"
   ]
  },
  {
   "cell_type": "code",
   "execution_count": 7,
   "metadata": {},
   "outputs": [
    {
     "name": "stdout",
     "output_type": "stream",
     "text": [
      "no buscar, no hay nada\n"
     ]
    }
   ],
   "source": [
    "asteroide = 19\n",
    "if asteroide > 20:\n",
    "    print('¡Hay una luz en el cielo')\n",
    "elif asteroide == 20:\n",
    "    print('hay una luz en el cielo')\n",
    "else:\n",
    "    print('no buscar, no hay nada')"
   ]
  },
  {
   "cell_type": "code",
   "execution_count": 8,
   "metadata": {},
   "outputs": [
    {
     "name": "stdout",
     "output_type": "stream",
     "text": [
      "¡Hay una luz en el cielo\n"
     ]
    }
   ],
   "source": [
    "asteroide = 24\n",
    "if asteroide > 20:\n",
    "    print('¡Hay una luz en el cielo!')\n",
    "elif asteroide == 20:\n",
    "    print('hay una luz en el cielo!')\n",
    "else:\n",
    "    print('no buscar, no hay nada')"
   ]
  },
  {
   "cell_type": "code",
   "execution_count": 9,
   "metadata": {},
   "outputs": [
    {
     "ename": "SyntaxError",
     "evalue": "invalid syntax (223808592.py, line 2)",
     "output_type": "error",
     "traceback": [
      "\u001b[1;36m  Input \u001b[1;32mIn [9]\u001b[1;36m\u001b[0m\n\u001b[1;33m    elif asteroide == 20:\u001b[0m\n\u001b[1;37m    ^\u001b[0m\n\u001b[1;31mSyntaxError\u001b[0m\u001b[1;31m:\u001b[0m invalid syntax\n"
     ]
    }
   ],
   "source": [
    "asteroide = 24\n",
    "elif asteroide == 20:\n",
    "    print('hay una luz en el cielo!')\n",
    "if asteroide > 20:\n",
    "    print('¡Hay una luz en el cielo!')\n",
    "else:\n",
    "    print('no buscar, no hay nada')"
   ]
  },
  {
   "cell_type": "markdown",
   "metadata": {},
   "source": [
    "AND, OR"
   ]
  },
  {
   "cell_type": "markdown",
   "metadata": {},
   "source": [
    "Los asteroides de menos de 25 metros en su dimensión más grande probablemente se quemarán a medida que entren en la atmósfera de la Tierra.\n",
    "\n",
    "Si una pieza de un asteroide que es más grande que 25 metros pero más pequeña que 1000 metros golpeara la Tierra, causaría mucho daño.\n",
    "También discutimos en el ejercicio anterior que:\n",
    "\n",
    "La velocidad del asteroide varía en función de lo cerca que esté del sol, y cualquier velocidad superior a 25 kilómetros por segundo (km/s) merece una advertencia.\n",
    "Si un asteroide entra en la atmósfera de la Tierra a una velocidad mayor o igual a 20 km/s, a veces produce un rayo de luz que se puede ver desde la Tierra."
   ]
  },
  {
   "cell_type": "code",
   "execution_count": 13,
   "metadata": {},
   "outputs": [
    {
     "name": "stdout",
     "output_type": "stream",
     "text": [
      "hay una luz en el cielo\n"
     ]
    }
   ],
   "source": [
    "asteroide = 20\n",
    "tamaño_ast = 100\n",
    "if asteroide > 25 and 1000 > tamaño_ast > 25:\n",
    "    print ('alerta de asteroide')\n",
    "elif asteroide >= 20:\n",
    "    print ('hay una luz en el cielo')\n",
    "elif tamaño_ast < 25:\n",
    "    print ('no pasa nada')\n",
    "elif tamaño_ast > 1000:\n",
    "    print('destruccion total')\n",
    "else:\n",
    "    print('no pasa nada')\n",
    "    "
   ]
  }
 ],
 "metadata": {
  "interpreter": {
   "hash": "9f943853bacf1fbed13bd1947b75f4916cd19a12d8cd60373394cafa6e24a8bd"
  },
  "kernelspec": {
   "display_name": "Python 3.10.2 64-bit",
   "language": "python",
   "name": "python3"
  },
  "language_info": {
   "codemirror_mode": {
    "name": "ipython",
    "version": 3
   },
   "file_extension": ".py",
   "mimetype": "text/x-python",
   "name": "python",
   "nbconvert_exporter": "python",
   "pygments_lexer": "ipython3",
   "version": "3.10.2"
  },
  "orig_nbformat": 4
 },
 "nbformat": 4,
 "nbformat_minor": 2
}
