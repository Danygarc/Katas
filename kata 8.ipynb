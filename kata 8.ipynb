{
 "cells": [
  {
   "cell_type": "markdown",
   "metadata": {},
   "source": [
    "Crear y modificar un diccionario de Python"
   ]
  },
  {
   "cell_type": "code",
   "execution_count": 6,
   "metadata": {},
   "outputs": [
    {
     "name": "stdout",
     "output_type": "stream",
     "text": [
      "{'name': 'Marte', 'luna(s)': 2}\n",
      "{'name': 'Marte', 'luna(s)': 2, 'circunferencia (km)': {'polar': 6752, 'ecuatorial': 6792}}\n",
      "Marte tiene 2 lunas\n"
     ]
    }
   ],
   "source": [
    "planeta= {\n",
    "    'name': 'Marte',\n",
    "    'luna(s)': 2 \n",
    "}\n",
    "print(planeta)\n",
    "planeta['circunferencia (km)']= {\n",
    "    'polar': 6752,\n",
    "    'ecuatorial': 6792\n",
    "}\n",
    "print(planeta)\n",
    "print(f'{planeta[\"name\"]} tiene {planeta[\"luna(s)\"]} lunas')"
   ]
  },
  {
   "cell_type": "markdown",
   "metadata": {},
   "source": [
    "Cálculo de valores"
   ]
  },
  {
   "cell_type": "code",
   "execution_count": 16,
   "metadata": {},
   "outputs": [
    {
     "name": "stdout",
     "output_type": "stream",
     "text": [
      "mercurio: 0\n",
      "venus: 0\n",
      "tierra: 1\n",
      "marte: 2\n",
      "jupiter: 79\n",
      "saturno: 82\n",
      "urano: 27\n",
      "neptuno: 14\n",
      "pluton: 5\n",
      "haumea: 2\n",
      "makemake: 1\n",
      "eris: 1\n",
      "hay 12 planetas\n",
      "hay 214 lunas\n",
      "17.833333333333332 promedio de lunas por planeta\n"
     ]
    }
   ],
   "source": [
    "planet_lunas = {\n",
    "    'mercurio': 0,\n",
    "    'venus': 0,\n",
    "    'tierra': 1,\n",
    "    'marte': 2,\n",
    "    'jupiter': 79,\n",
    "    'saturno': 82,\n",
    "    'urano': 27,\n",
    "    'neptuno': 14,\n",
    "    'pluton': 5,\n",
    "    'haumea': 2,\n",
    "    'makemake': 1,\n",
    "    'eris': 1\n",
    "}\n",
    "for key in planet_lunas.keys():\n",
    "    print(f'{key}: {planet_lunas[key]}')\n",
    "total_lunas= 0\n",
    "for value in planet_lunas.values():\n",
    "    total_lunas= total_lunas + value\n",
    "num_planetas= len(planet_lunas)\n",
    "print(f'hay {num_planetas} planetas')\n",
    "print(f'hay {total_lunas} lunas')\n",
    "prom_lunas= total_lunas / num_planetas\n",
    "print(f'{prom_lunas} promedio de lunas por planeta')"
   ]
  }
 ],
 "metadata": {
  "interpreter": {
   "hash": "9f943853bacf1fbed13bd1947b75f4916cd19a12d8cd60373394cafa6e24a8bd"
  },
  "kernelspec": {
   "display_name": "Python 3.10.2 64-bit",
   "language": "python",
   "name": "python3"
  },
  "language_info": {
   "codemirror_mode": {
    "name": "ipython",
    "version": 3
   },
   "file_extension": ".py",
   "mimetype": "text/x-python",
   "name": "python",
   "nbconvert_exporter": "python",
   "pygments_lexer": "ipython3",
   "version": "3.10.2"
  },
  "orig_nbformat": 4
 },
 "nbformat": 4,
 "nbformat_minor": 2
}
