{
 "cells": [
  {
   "cell_type": "markdown",
   "metadata": {},
   "source": [
    "Calcular la distancia entre dos planetas. Comenzaremos usando dos distancias de planetas: Tierra (149.597.870 km) y Júpiter (778.547.200 km)."
   ]
  },
  {
   "cell_type": "code",
   "execution_count": 12,
   "metadata": {},
   "outputs": [
    {
     "name": "stdout",
     "output_type": "stream",
     "text": [
      "628949330 km  ,   390577534 millas\n"
     ]
    }
   ],
   "source": [
    "Tierra= 149597870\n",
    "Jupiter= 778547200\n",
    "distancia= Tierra - Jupiter\n",
    "print(str(abs(distancia)) + \" km  ,   \" + str(abs(round(distancia * .621))) + \" millas\")\n"
   ]
  },
  {
   "cell_type": "markdown",
   "metadata": {},
   "source": [
    "Leer la distancia del sol para dos planetas, y luego mostrar la distancia entre los planetas. Haremos esto usando input para leer los valores, int para convertir a entero y luego abs para convertir el resultado en su valor absoluto."
   ]
  },
  {
   "cell_type": "code",
   "execution_count": 23,
   "metadata": {},
   "outputs": [
    {
     "name": "stdout",
     "output_type": "stream",
     "text": [
      "1111 km    ,   689.931millas\n"
     ]
    }
   ],
   "source": [
    "primer_planeta= input('Dame la distancia del primer planeta')\n",
    "segundo_planeta= input('Dame la distancia del segundo planeta')\n",
    "primer_planeta= int(primer_planeta)\n",
    "segundo_planeta= int(segundo_planeta)\n",
    "distancia=primer_planeta -segundo_planeta\n",
    "print(str(abs(distancia)) + \" km    ,   \" + str(abs(distancia * .621)) + \" millas\")"
   ]
  }
 ],
 "metadata": {
  "interpreter": {
   "hash": "9f943853bacf1fbed13bd1947b75f4916cd19a12d8cd60373394cafa6e24a8bd"
  },
  "kernelspec": {
   "display_name": "Python 3.10.2 64-bit",
   "language": "python",
   "name": "python3"
  },
  "language_info": {
   "codemirror_mode": {
    "name": "ipython",
    "version": 3
   },
   "file_extension": ".py",
   "mimetype": "text/x-python",
   "name": "python",
   "nbconvert_exporter": "python",
   "pygments_lexer": "ipython3",
   "version": "3.10.2"
  },
  "orig_nbformat": 4
 },
 "nbformat": 4,
 "nbformat_minor": 2
}
